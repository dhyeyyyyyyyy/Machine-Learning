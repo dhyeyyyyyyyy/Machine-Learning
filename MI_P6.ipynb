{
  "nbformat": 4,
  "nbformat_minor": 0,
  "metadata": {
    "colab": {
      "provenance": [],
      "authorship_tag": "ABX9TyNdQiIlEV0Z6bYNYgBHrCXJ",
      "include_colab_link": true
    },
    "kernelspec": {
      "name": "python3",
      "display_name": "Python 3"
    },
    "language_info": {
      "name": "python"
    }
  },
  "cells": [
    {
      "cell_type": "markdown",
      "metadata": {
        "id": "view-in-github",
        "colab_type": "text"
      },
      "source": [
        "<a href=\"https://colab.research.google.com/github/dhyeyyyyyyyy/Machine-Learning/blob/main/MI_P6.ipynb\" target=\"_parent\"><img src=\"https://colab.research.google.com/assets/colab-badge.svg\" alt=\"Open In Colab\"/></a>"
      ]
    },
    {
      "cell_type": "code",
      "execution_count": 2,
      "metadata": {
        "colab": {
          "base_uri": "https://localhost:8080/"
        },
        "id": "jiqnOcTUsVNy",
        "outputId": "fd3f7971-bc17-4046-9d84-5d8af4ff5798"
      },
      "outputs": [
        {
          "output_type": "stream",
          "name": "stdout",
          "text": [
            "\n",
            " Model Performance Report:\n",
            "              precision    recall  f1-score   support\n",
            "\n",
            "           0       0.81      0.71      0.76       151\n",
            "           1       0.56      0.69      0.61        80\n",
            "\n",
            "    accuracy                           0.70       231\n",
            "   macro avg       0.68      0.70      0.69       231\n",
            "weighted avg       0.72      0.70      0.71       231\n",
            "\n",
            " Model Accuracy: 0.70\n",
            "\n",
            " Diagnosis Result: The patient is Diabetic.\n"
          ]
        },
        {
          "output_type": "stream",
          "name": "stderr",
          "text": [
            "/usr/local/lib/python3.11/dist-packages/sklearn/utils/validation.py:2739: UserWarning: X does not have valid feature names, but DecisionTreeClassifier was fitted with feature names\n",
            "  warnings.warn(\n"
          ]
        }
      ],
      "source": [
        "import pandas as pd\n",
        "from sklearn.model_selection import train_test_split\n",
        "from sklearn.tree import DecisionTreeClassifier\n",
        "from sklearn.metrics import accuracy_score, classification_report\n",
        "\n",
        "# Load dataset\n",
        "data = pd.read_csv(\"diabetes.csv\")\n",
        "\n",
        "# Define independent (features) and dependent (target) variables\n",
        "features = data.drop(columns=[\"Outcome\"])\n",
        "target = data[\"Outcome\"]\n",
        "\n",
        "# Split dataset into training (70%) and testing (30%) sets\n",
        "X_train, X_test, y_train, y_test = train_test_split(features, target, test_size=0.3, random_state=42)\n",
        "\n",
        "# Create and train Decision Tree model\n",
        "model = DecisionTreeClassifier(random_state=42)\n",
        "model.fit(X_train, y_train)\n",
        "\n",
        "# Generate predictions on test data\n",
        "predictions = model.predict(X_test)\n",
        "\n",
        "# Evaluate model performance\n",
        "print(\"\\n Model Performance Report:\")\n",
        "print(classification_report(y_test, predictions))\n",
        "print(f\" Model Accuracy: {accuracy_score(y_test, predictions):.2f}\")\n",
        "\n",
        "# Predict diabetes for a sample patient\n",
        "sample_input = [[6, 148, 72, 35, 0, 33.6, 0.627, 50]]\n",
        "result = model.predict(sample_input)\n",
        "\n",
        "# Display prediction result\n",
        "status = \"Diabetic\" if result[0] == 1 else \"Non-Diabetic\"\n",
        "print(f\"\\n Diagnosis Result: The patient is {status}.\")\n"
      ]
    }
  ]
}