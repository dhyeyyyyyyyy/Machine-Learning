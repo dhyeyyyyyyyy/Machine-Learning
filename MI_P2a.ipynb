{
  "nbformat": 4,
  "nbformat_minor": 0,
  "metadata": {
    "colab": {
      "provenance": [],
      "authorship_tag": "ABX9TyNIZd0yhFmGXfMLBqlA5mju",
      "include_colab_link": true
    },
    "kernelspec": {
      "name": "python3",
      "display_name": "Python 3"
    },
    "language_info": {
      "name": "python"
    }
  },
  "cells": [
    {
      "cell_type": "markdown",
      "metadata": {
        "id": "view-in-github",
        "colab_type": "text"
      },
      "source": [
        "<a href=\"https://colab.research.google.com/github/dhyeyyyyyyyy/Machine-Learning/blob/main/MI_P2a.ipynb\" target=\"_parent\"><img src=\"https://colab.research.google.com/assets/colab-badge.svg\" alt=\"Open In Colab\"/></a>"
      ]
    },
    {
      "cell_type": "code",
      "execution_count": 5,
      "metadata": {
        "colab": {
          "base_uri": "https://localhost:8080/"
        },
        "id": "UdQpkIa_9EtG",
        "outputId": "caf81055-05d9-4bcc-ab79-17d0b6b6889d"
      },
      "outputs": [
        {
          "output_type": "stream",
          "name": "stdout",
          "text": [
            "Probability of drawing two kings: 0.0045\n"
          ]
        }
      ],
      "source": [
        "def probability_of_two_kings():\n",
        "    \"\"\"Calculate the probability of drawing two kings from a deck of 52 cards.\"\"\"\n",
        "    total_cards = 52\n",
        "    kings = 4\n",
        "\n",
        "    # Probability of drawing a king first\n",
        "    prob_first_king = kings / total_cards\n",
        "\n",
        "    # Probability of drawing a king second (after drawing a king first)\n",
        "    prob_second_king = (kings - 1) / (total_cards - 1)\n",
        "\n",
        "    # Total probability\n",
        "    probability = prob_first_king * prob_second_king\n",
        "    return probability\n",
        "\n",
        "# Compute and display the probability\n",
        "result = probability_of_two_kings()\n",
        "print(f\"Probability of drawing two kings: {result:.4f}\")\n"
      ]
    }
  ]
}