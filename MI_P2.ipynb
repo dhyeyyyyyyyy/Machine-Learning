{
  "nbformat": 4,
  "nbformat_minor": 0,
  "metadata": {
    "colab": {
      "provenance": [],
      "authorship_tag": "ABX9TyMm8Y1+bnSQSb9E8W8tUdQr",
      "include_colab_link": true
    },
    "kernelspec": {
      "name": "python3",
      "display_name": "Python 3"
    },
    "language_info": {
      "name": "python"
    }
  },
  "cells": [
    {
      "cell_type": "markdown",
      "metadata": {
        "id": "view-in-github",
        "colab_type": "text"
      },
      "source": [
        "<a href=\"https://colab.research.google.com/github/dhyeyyyyyyyy/Machine-Learning/blob/main/MI_P2.ipynb\" target=\"_parent\"><img src=\"https://colab.research.google.com/assets/colab-badge.svg\" alt=\"Open In Colab\"/></a>"
      ]
    },
    {
      "cell_type": "code",
      "execution_count": 2,
      "metadata": {
        "colab": {
          "base_uri": "https://localhost:8080/"
        },
        "id": "UdQpkIa_9EtG",
        "outputId": "ca2492b3-0162-4827-b90b-36d4ccd87c71"
      },
      "outputs": [
        {
          "output_type": "stream",
          "name": "stdout",
          "text": [
            " Probability of drawing two kings from a deck: 0.0045\n",
            " Probability (Statistical) of passing second test: 0.5952\n",
            " Probability (ML-Based) of passing second test: 0.5970\n"
          ]
        },
        {
          "output_type": "stream",
          "name": "stderr",
          "text": [
            "/usr/local/lib/python3.11/dist-packages/sklearn/utils/validation.py:2739: UserWarning: X does not have valid feature names, but BernoulliNB was fitted with feature names\n",
            "  warnings.warn(\n"
          ]
        }
      ],
      "source": [
        "import math\n",
        "import numpy as np\n",
        "import pandas as pd\n",
        "from sklearn.naive_bayes import BernoulliNB\n",
        "\n",
        "# Function to calculate probability of drawing two kings\n",
        "def probability_two_kings():\n",
        "    total_ways = math.comb(52, 2)  # Ways to pick 2 cards from 52\n",
        "    favorable_ways = math.comb(4, 2)  # Ways to pick 2 kings from 4\n",
        "    return favorable_ways / total_ways\n",
        "\n",
        "# Function to compute conditional probability using Bayes' theorem\n",
        "def probability_passing_second_test(P_A_and_B, P_A):\n",
        "    return P_A_and_B / P_A\n",
        "\n",
        "# Applying probability for a machine learning use case (Naive Bayes Classifier)\n",
        "def predict_pass_probability():\n",
        "    # Simulated student test dataset\n",
        "    data = {\n",
        "        \"Passed_First_Test\": [1, 1, 0, 1, 0, 1, 0, 0, 1, 1],  # 1 = Passed, 0 = Failed\n",
        "        \"Passed_Both_Tests\": [1, 0, 0, 1, 0, 1, 0, 0, 1, 0]   # Target variable\n",
        "    }\n",
        "\n",
        "    df = pd.DataFrame(data)\n",
        "\n",
        "    # Defining feature & target\n",
        "    X = df[['Passed_First_Test']]\n",
        "    y = df['Passed_Both_Tests']\n",
        "\n",
        "    # Train a simple Naive Bayes model for probability estimation\n",
        "    model = BernoulliNB()\n",
        "    model.fit(X, y)\n",
        "\n",
        "    # Predict probability of passing second test if student passed the first one\n",
        "    prob = model.predict_proba([[1]])[0][1]\n",
        "    return prob\n",
        "\n",
        "# Executing functions\n",
        "print(f\" Probability of drawing two kings from a deck: {probability_two_kings():.4f}\")\n",
        "\n",
        "# Given dataset probabilities\n",
        "P_A_and_B = 0.25  # Passed both tests\n",
        "P_A = 0.42        # Passed first test\n",
        "\n",
        "# Using statistical method\n",
        "prob_second_test = probability_passing_second_test(P_A_and_B, P_A)\n",
        "print(f\" Probability (Statistical) of passing second test: {prob_second_test:.4f}\")\n",
        "\n",
        "# Using Machine Learning Model (Naive Bayes)\n",
        "ml_probability = predict_pass_probability()\n",
        "print(f\" Probability (ML-Based) of passing second test: {ml_probability:.4f}\")\n"
      ]
    }
  ]
}