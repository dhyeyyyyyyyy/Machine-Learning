{
  "nbformat": 4,
  "nbformat_minor": 0,
  "metadata": {
    "colab": {
      "provenance": [],
      "authorship_tag": "ABX9TyPm+9I3AT0Y/qdbdWmtJLx/",
      "include_colab_link": true
    },
    "kernelspec": {
      "name": "python3",
      "display_name": "Python 3"
    },
    "language_info": {
      "name": "python"
    }
  },
  "cells": [
    {
      "cell_type": "markdown",
      "metadata": {
        "id": "view-in-github",
        "colab_type": "text"
      },
      "source": [
        "<a href=\"https://colab.research.google.com/github/dhyeyyyyyyyy/Machine-Learning/blob/main/MI_P2b.ipynb\" target=\"_parent\"><img src=\"https://colab.research.google.com/assets/colab-badge.svg\" alt=\"Open In Colab\"/></a>"
      ]
    },
    {
      "cell_type": "code",
      "execution_count": 2,
      "metadata": {
        "colab": {
          "base_uri": "https://localhost:8080/"
        },
        "id": "y4Hhh5gNHzkF",
        "outputId": "37d08249-eefd-497d-9b50-c8449aa30ddb"
      },
      "outputs": [
        {
          "output_type": "stream",
          "name": "stdout",
          "text": [
            "Enter the number of students who passed both tests: 25\n",
            "Enter the number of students who passed the first test: 42\n",
            "\n",
            "Number of students who passed the second test: 59.52%\n"
          ]
        }
      ],
      "source": [
        "def calculate_second_test_pass():\n",
        "    \"\"\"Calculate and display the probability of passing the second test.\"\"\"\n",
        "\n",
        "    # Get user input\n",
        "    passed_both = float(input(\"Enter the number of students who passed both tests: \"))\n",
        "    passed_first = float(input(\"Enter the number of students who passed the first test: \"))\n",
        "\n",
        "    # Compute conditional probability: P(B | A) = P(A ∩ B) / P(A)\n",
        "    if passed_first == 0:\n",
        "        print(\"Error: The number of students who passed the first test cannot be zero.\")\n",
        "        return\n",
        "\n",
        "    probability_pass_second = (passed_both / passed_first) * 100\n",
        "\n",
        "    # Display result\n",
        "    print(f\"\\nNumber of students who passed the second test: {probability_pass_second:.2f}%\")\n",
        "\n",
        "# Run the function\n",
        "calculate_second_test_pass()\n"
      ]
    }
  ]
}